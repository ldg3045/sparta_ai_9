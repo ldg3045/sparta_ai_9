{
 "cells": [
  {
   "cell_type": "code",
   "execution_count": null,
   "id": "ed77fe7a-eaae-44ef-be70-82ddeed7ebdd",
   "metadata": {},
   "outputs": [],
   "source": [
    "import random  # 랜덤한 숫자를 고르는 모듈을 탑재한다.\n",
    "\n",
    "print(\"숫자 맞추기 게임~!\")  # 게임을 시작했다는 문구를 띄운다.\n",
    "\n",
    "choice = random.randint(1, 9)  # 1~9 사이의 랜덤한 정수를 반환한다.\n",
    "\n",
    "while True:                    # 숫자를 맞출 때까지 반복한다.\n",
    "    user_choice = int(input('1~10까지 숫자를 입력하세요'))  # 사용자로부터 숫자를 입력받아 정수로 변환한다.\n",
    "\n",
    "    if choice == user_choice:  # 사용자가 랜덤 숫자를 맞췄을 때\n",
    "        break  # 반복문을 종료한다.\n",
    "    if choice < user_choice:  # 사용자가 선택한 숫자가 정답보다 클 때\n",
    "        print('선택한 숫자보다 작아요!')  # 힌트를 출력한다.\n",
    "    else:  # 사용자가 선택한 숫자가 정답보다 작을 때\n",
    "        print('선택한 숫자보다 커요!')  # 힌트를 출력한다.\n",
    "\n",
    "print('맞췄습니다. 대단해요! 게임을 종료할게요.')  # 정답을 맞추고 게임 종료 메시지를 출력한다."
   ]
  }
 ],
 "metadata": {
  "kernelspec": {
   "display_name": "Python 3 (ipykernel)",
   "language": "python",
   "name": "python3"
  },
  "language_info": {
   "codemirror_mode": {
    "name": "ipython",
    "version": 3
   },
   "file_extension": ".py",
   "mimetype": "text/x-python",
   "name": "python",
   "nbconvert_exporter": "python",
   "pygments_lexer": "ipython3",
   "version": "3.12.7"
  }
 },
 "nbformat": 4,
 "nbformat_minor": 5
}
