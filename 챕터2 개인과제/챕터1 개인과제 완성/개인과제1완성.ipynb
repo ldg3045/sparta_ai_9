{
 "cells": [
  {
   "cell_type": "code",
   "execution_count": 109,
   "metadata": {},
   "outputs": [
    {
     "name": "stdout",
     "output_type": "stream",
     "text": [
      "결측치 개수:\n",
      "CRIM       20\n",
      "ZN         20\n",
      "INDUS      20\n",
      "CHAS       20\n",
      "NOX         0\n",
      "RM          0\n",
      "AGE        20\n",
      "DIS         0\n",
      "RAD         0\n",
      "TAX         0\n",
      "PTRATIO     0\n",
      "B           0\n",
      "LSTAT      20\n",
      "MEDV        0\n",
      "dtype: int64\n"
     ]
    }
   ],
   "source": [
    "# 필수 과제 1번 : 지도 학습\n",
    "\n",
    "# 주택 가격 예측 모델 구축\n",
    "\n",
    "# 1. 데이터 탐색에 필요한 라이브러리\n",
    "import pandas as pd #pandas : 데이터 처리 및 분석용 \n",
    "import numpy as np #numpy : 수치 계산용\n",
    "import matplotlib.pyplot as plt #matplotlib : 기본 시각화 도구\n",
    "import seaborn as sns #seaborn : 고급 시각화 도구\n",
    "\n",
    "# 데이터 로드\n",
    "df = pd.read_csv('C:/Users/user/Desktop/AI_9/sparta_ai_9/챕터2 개인과제/챕터2 개인과제 자료/housingdata.csv') \n",
    "# read_csv : csv 파일을 데이터프레임으로 읽기\n",
    "\n",
    "# 결측치 확인\n",
    "print(\"결측치 개수:\")\n",
    "print(df.isnull().sum()) #isnull() : 결측치 확인 / sum() : 결측치 개수 확인"
   ]
  },
  {
   "cell_type": "code",
   "execution_count": 110,
   "metadata": {},
   "outputs": [
    {
     "name": "stdout",
     "output_type": "stream",
     "text": [
      "결측치 처리 전 기술 통계량:\n",
      "             CRIM          ZN       INDUS        CHAS         NOX          RM  \\\n",
      "count  486.000000  486.000000  486.000000  486.000000  506.000000  506.000000   \n",
      "mean     3.611874   11.211934   11.083992    0.069959    0.554695    6.284634   \n",
      "std      8.720192   23.388876    6.835896    0.255340    0.115878    0.702617   \n",
      "min      0.006320    0.000000    0.460000    0.000000    0.385000    3.561000   \n",
      "25%      0.081900    0.000000    5.190000    0.000000    0.449000    5.885500   \n",
      "50%      0.253715    0.000000    9.690000    0.000000    0.538000    6.208500   \n",
      "75%      3.560263   12.500000   18.100000    0.000000    0.624000    6.623500   \n",
      "max     88.976200  100.000000   27.740000    1.000000    0.871000    8.780000   \n",
      "\n",
      "              AGE         DIS         RAD         TAX     PTRATIO           B  \\\n",
      "count  486.000000  506.000000  506.000000  506.000000  506.000000  506.000000   \n",
      "mean    68.518519    3.795043    9.549407  408.237154   18.455534  356.674032   \n",
      "std     27.999513    2.105710    8.707259  168.537116    2.164946   91.294864   \n",
      "min      2.900000    1.129600    1.000000  187.000000   12.600000    0.320000   \n",
      "25%     45.175000    2.100175    4.000000  279.000000   17.400000  375.377500   \n",
      "50%     76.800000    3.207450    5.000000  330.000000   19.050000  391.440000   \n",
      "75%     93.975000    5.188425   24.000000  666.000000   20.200000  396.225000   \n",
      "max    100.000000   12.126500   24.000000  711.000000   22.000000  396.900000   \n",
      "\n",
      "            LSTAT        MEDV  \n",
      "count  486.000000  506.000000  \n",
      "mean    12.715432   22.532806  \n",
      "std      7.155871    9.197104  \n",
      "min      1.730000    5.000000  \n",
      "25%      7.125000   17.025000  \n",
      "50%     11.430000   21.200000  \n",
      "75%     16.955000   25.000000  \n",
      "max     37.970000   50.000000  \n",
      "\n",
      "결측치 처리 후 확인:\n",
      "CRIM       0\n",
      "ZN         0\n",
      "INDUS      0\n",
      "CHAS       0\n",
      "NOX        0\n",
      "RM         0\n",
      "AGE        0\n",
      "DIS        0\n",
      "RAD        0\n",
      "TAX        0\n",
      "PTRATIO    0\n",
      "B          0\n",
      "LSTAT      0\n",
      "MEDV       0\n",
      "dtype: int64\n"
     ]
    }
   ],
   "source": [
    "# 결측치 개수 확인\n",
    "# 결측치 개수가 0개라면 결측치(NaN)이 없는 것이고, 0이 아니라면 결측치(NaN)가 있는 것이다.\n",
    "\n",
    "# 결측치(NaN) 처리 방법 확인을 위한 기술 통계량\n",
    "print(\"결측치 처리 전 기술 통계량:\")\n",
    "print(df.describe()) #describe() : 기술 통계량 확인\n",
    "# 기술 통계랑은 평균, 표준편차, 최소/최대값 등을 포함한다.\n",
    "\n",
    "# 결측치(NaN)을 각 열의 평균값으로 대체\n",
    "df_filled = df.fillna(df.mean()) #fillna() : 결측치 대체 / mean() : 평균값 계산\n",
    "\n",
    "# 결측치(NaN) 처리 결과 확인\n",
    "print(\"\\n결측치 처리 후 확인:\")\n",
    "print(df_filled.isnull().sum()) #isnull() : 결측치 확인 / sum() : 결측치 개수 확인"
   ]
  },
  {
   "cell_type": "code",
   "execution_count": 111,
   "metadata": {},
   "outputs": [
    {
     "name": "stderr",
     "output_type": "stream",
     "text": [
      "C:\\Users\\user\\AppData\\Roaming\\Python\\Python313\\site-packages\\IPython\\core\\pylabtools.py:170: UserWarning: Glyph 48516 (\\N{HANGUL SYLLABLE BUN}) missing from font(s) DejaVu Sans.\n",
      "  fig.canvas.print_figure(bytes_io, **kw)\n",
      "C:\\Users\\user\\AppData\\Roaming\\Python\\Python313\\site-packages\\IPython\\core\\pylabtools.py:170: UserWarning: Glyph 54252 (\\N{HANGUL SYLLABLE PO}) missing from font(s) DejaVu Sans.\n",
      "  fig.canvas.print_figure(bytes_io, **kw)\n"
     ]
    },
    {
     "data": {
      "image/png": "[encoded data removed]",
      "text/plain": [
       "<Figure size 640x480 with 1 Axes>"
      ]
     },
     "metadata": {},
     "output_type": "display_data"
    }
   ],
   "source": [
    "# 결측치(NaN) 처리 후 기술 통계량 확인\n",
    "\n",
    "# CRIM 열의 boxplot 그리기\n",
    "plt.boxplot(df_filled['CRIM']) # df_filled['CRIM'] : CRIM 열의 데이터\n",
    "plt.title('CRIM 분포') # title() : 그래프 제목 설정\n",
    "plt.show() # show() : 그래프 표시\n",
    "\n",
    "# 출력 결과에 대한 설명 ▼\n",
    "\n",
    "# CRIM : 마을별 1인당 범죄율"
   ]
  },
  {
   "cell_type": "code",
   "execution_count": 112,
   "metadata": {},
   "outputs": [
    {
     "name": "stdout",
     "output_type": "stream",
     "text": [
      "CRIM 열의 이상치 경계값:\n",
      "하한값: -5.21\n",
      "상한값: 8.90\n"
     ]
    }
   ],
   "source": [
    "# 4번 셀에 describe()를 사용하였기에, CRIM 확인 가능\n",
    "# CRIM 25% 하한값은 0.081900\n",
    "# CRIM 75% 상한값은 3.560263\n",
    "\n",
    "# CRIM 열의 Q1, Q3, IQR 계산\n",
    "Q1 = df_filled['CRIM'].quantile(0.25)    # 1사분위수 25%\n",
    "Q3 = df_filled['CRIM'].quantile(0.75)    # 3사분위수 75%\n",
    "IQR = Q3 - Q1                            # IQR 계산 75% - 25% = 50%\n",
    "\n",
    "# 이상치 경계값 계산\n",
    "lower_bound = Q1 - 1.5 * IQR    # 25% - 1.5 * 50% = -50% (하한값)\n",
    "upper_bound = Q3 + 1.5 * IQR    # 75% + 1.5 * 50% = 150% (상한값)\n",
    "\n",
    "print('CRIM 열의 이상치 경계값:')\n",
    "print(f'하한값: {lower_bound:.2f}') # .2 : 소수점 둘째자리까지 표시\n",
    "print(f'상한값: {upper_bound:.2f}') # f : 실수(float) 형식으로 표시\n",
    "\n",
    "# 출력 결과에 대한 설명 ▼\n",
    "\n",
    "# IQR = 3.560263 - 0.081900 = 3.478363\n",
    "# 하한값 = 0.081900 - 1.5 * 3.478363 = -5.21 (하한값)\n",
    "# 상한값 = 3.560263 + 1.5 * 3.478363 = 8.90 (상한값)\n",
    "\n",
    "# 이 경계값(-5.21 ~ 8.90)을 벗어나는 값들이 이상치"
   ]
  },
  {
   "cell_type": "code",
   "execution_count": 113,
   "metadata": {},
   "outputs": [
    {
     "name": "stdout",
     "output_type": "stream",
     "text": [
      "이상치 개수: 64\n",
      "\n",
      "이상치 값들:\n",
      "         CRIM   ZN  INDUS  CHAS    NOX     RM         AGE     DIS  RAD  TAX  \\\n",
      "356   8.98296  0.0   18.1   1.0  0.770  6.212   97.400000  2.1222   24  666   \n",
      "382   9.18702  0.0   18.1   0.0  0.700  5.536  100.000000  1.5804   24  666   \n",
      "371   9.23230  0.0   18.1   0.0  0.631  6.216  100.000000  1.1691   24  666   \n",
      "448   9.32909  0.0   18.1   0.0  0.713  6.185   98.700000  2.2616   24  666   \n",
      "429   9.33889  0.0   18.1   0.0  0.679  6.380   68.518519  1.9682   24  666   \n",
      "..        ...  ...    ...   ...    ...    ...         ...     ...  ...  ...   \n",
      "414  45.74610  0.0   18.1   0.0  0.693  4.519  100.000000  1.6582   24  666   \n",
      "410  51.13580  0.0   18.1   0.0  0.597  5.757  100.000000  1.4130   24  666   \n",
      "405  67.92080  0.0   18.1   0.0  0.693  5.683  100.000000  1.4254   24  666   \n",
      "418  73.53410  0.0   18.1   0.0  0.679  5.957  100.000000  1.8026   24  666   \n",
      "380  88.97620  0.0   18.1   0.0  0.671  6.968   91.900000  1.4165   24  666   \n",
      "\n",
      "     PTRATIO       B  LSTAT  MEDV  \n",
      "356     20.2  377.73  17.60  17.8  \n",
      "382     20.2  396.90  23.60  11.3  \n",
      "371     20.2  366.15   9.53  50.0  \n",
      "448     20.2  396.90  18.13  14.1  \n",
      "429     20.2   60.72  24.08   9.5  \n",
      "..       ...     ...    ...   ...  \n",
      "414     20.2   88.27  36.98   7.0  \n",
      "410     20.2    2.60  10.11  15.0  \n",
      "405     20.2  384.97  22.98   5.0  \n",
      "418     20.2   16.45  20.62   8.8  \n",
      "380     20.2  396.90  17.21  10.4  \n",
      "\n",
      "[64 rows x 14 columns]\n"
     ]
    }
   ],
   "source": [
    "# CRIM 열의 이상치 찾기\n",
    "outliers = df_filled[(df_filled['CRIM'] < -5.21) | (df_filled['CRIM'] > 8.90)]  \n",
    "#  |(판다스의 'or'연산자) : 두 조건 중 하나라도 참이면 참을 반환\n",
    "# 두 조건을 모두 만족하는 값들을 찾기 위해 |연산자와 리스트 형식으로 출력\n",
    "\n",
    "print(\"이상치 개수:\", len(outliers))\n",
    "print(\"\\n이상치 값들:\")\n",
    "print(df_filled[df_filled['CRIM'] > 8.90].sort_values(by='CRIM'))\n",
    "# sort_values : 데이터프레임의 특정 컬럼을 기준으로 정렬하는 메서드\n",
    "# by= : 정렬할 기준 열을 지정하는 매개변수, CRIM 열을 기준으로 정렬\n",
    "\n",
    "# 출력 결과에 대한 설명\n",
    "\n",
    "# 아래 결과 값을 보면 가로가 짤려서 밑으로 내려 간 것이고\n",
    "# 처음 5행, 마지막 5행을 보여주는 게 pandas의 기본 설정 (중간에 ...은 생략된 것)"
   ]
  },
  {
   "cell_type": "code",
   "execution_count": 114,
   "metadata": {},
   "outputs": [
    {
     "name": "stderr",
     "output_type": "stream",
     "text": [
      "C:\\Users\\user\\AppData\\Roaming\\Python\\Python313\\site-packages\\IPython\\core\\pylabtools.py:170: UserWarning: Glyph 44284 (\\N{HANGUL SYLLABLE GWA}) missing from font(s) DejaVu Sans.\n",
      "  fig.canvas.print_figure(bytes_io, **kw)\n",
      "C:\\Users\\user\\AppData\\Roaming\\Python\\Python313\\site-packages\\IPython\\core\\pylabtools.py:170: UserWarning: Glyph 51032 (\\N{HANGUL SYLLABLE YI}) missing from font(s) DejaVu Sans.\n",
      "  fig.canvas.print_figure(bytes_io, **kw)\n",
      "C:\\Users\\user\\AppData\\Roaming\\Python\\Python313\\site-packages\\IPython\\core\\pylabtools.py:170: UserWarning: Glyph 44288 (\\N{HANGUL SYLLABLE GWAN}) missing from font(s) DejaVu Sans.\n",
      "  fig.canvas.print_figure(bytes_io, **kw)\n",
      "C:\\Users\\user\\AppData\\Roaming\\Python\\Python313\\site-packages\\IPython\\core\\pylabtools.py:170: UserWarning: Glyph 44228 (\\N{HANGUL SYLLABLE GYE}) missing from font(s) DejaVu Sans.\n",
      "  fig.canvas.print_figure(bytes_io, **kw)\n"
     ]
    },
    {
     "data": {
      "image/png": "[encoded data removed]",
      "text/plain": [
       "<Figure size 1000x600 with 1 Axes>"
      ]
     },
     "metadata": {},
     "output_type": "display_data"
    }
   ],
   "source": [
    "# 이상치 처리 전 데이터 확인\n",
    "\n",
    "# CRIM과 MEDV의 산점도 그리기\n",
    "plt.figure(figsize=(10, 6))                        # figure() : 그래프를 그리기 위한 캔버스 크기 설정\n",
    "plt.scatter(df_filled['CRIM'], df_filled['MEDV'])  # scatter() : 산점도(점으로 된 그래프) 그리기\n",
    "plt.axvline(x=8.90, color='blue', linestyle='--')  # axvline() : 이상치 경계선(수직선) 그리기\n",
    "plt.xlabel('CRIM')                                 # xlabel() : x축 레이블의 이름은 CRIM\n",
    "plt.ylabel('MEDV')                                 # ylabel() : y축 레이블의 이름은 MEDV\n",
    "plt.title('CRIM과 MEDV의 관계')                     # title() : 그래프 제목\n",
    "plt.show()                                         # show() : 그래프 표시\n"
   ]
  },
  {
   "cell_type": "code",
   "execution_count": 115,
   "metadata": {},
   "outputs": [
    {
     "name": "stdout",
     "output_type": "stream",
     "text": [
      "처리 전 CRIM 최대값: 88.9762\n",
      "처리 후 CRIM 최대값: 8.9\n"
     ]
    }
   ],
   "source": [
    "# 이상치 처리\n",
    "\n",
    "# 이상치를 경계값으로 대체 / 이상치를 제거하는 선택지도 있지만 데이터 손실이 크기에 경계값으로 대체\n",
    "df_capped = df_filled.copy() # copy() : 데이터프레임 복사\n",
    "df_capped.loc[df_capped['CRIM'] > 8.90, 'CRIM'] = 8.90 # loc[] : 특정 행과 열을 선택하는 메서드\n",
    "# CRIM 열의 값이 8.90보다 큰 경우, CRIM 열의 값을 8.90으로 대체\n",
    "\n",
    "# 이상치를 경계값으로 대체(Capping)한 결과 확인\n",
    "print(\"처리 전 CRIM 최대값:\", df_filled['CRIM'].max())\n",
    "print(\"처리 후 CRIM 최대값:\", df_capped['CRIM'].max())\n"
   ]
  },
  {
   "cell_type": "code",
   "execution_count": 116,
   "metadata": {},
   "outputs": [
    {
     "name": "stderr",
     "output_type": "stream",
     "text": [
      "C:\\Users\\user\\AppData\\Roaming\\Python\\Python313\\site-packages\\IPython\\core\\pylabtools.py:170: UserWarning: Glyph 51060 (\\N{HANGUL SYLLABLE I}) missing from font(s) DejaVu Sans.\n",
      "  fig.canvas.print_figure(bytes_io, **kw)\n",
      "C:\\Users\\user\\AppData\\Roaming\\Python\\Python313\\site-packages\\IPython\\core\\pylabtools.py:170: UserWarning: Glyph 49345 (\\N{HANGUL SYLLABLE SANG}) missing from font(s) DejaVu Sans.\n",
      "  fig.canvas.print_figure(bytes_io, **kw)\n",
      "C:\\Users\\user\\AppData\\Roaming\\Python\\Python313\\site-packages\\IPython\\core\\pylabtools.py:170: UserWarning: Glyph 52824 (\\N{HANGUL SYLLABLE CI}) missing from font(s) DejaVu Sans.\n",
      "  fig.canvas.print_figure(bytes_io, **kw)\n",
      "C:\\Users\\user\\AppData\\Roaming\\Python\\Python313\\site-packages\\IPython\\core\\pylabtools.py:170: UserWarning: Glyph 52376 (\\N{HANGUL SYLLABLE CEO}) missing from font(s) DejaVu Sans.\n",
      "  fig.canvas.print_figure(bytes_io, **kw)\n",
      "C:\\Users\\user\\AppData\\Roaming\\Python\\Python313\\site-packages\\IPython\\core\\pylabtools.py:170: UserWarning: Glyph 47532 (\\N{HANGUL SYLLABLE RI}) missing from font(s) DejaVu Sans.\n",
      "  fig.canvas.print_figure(bytes_io, **kw)\n",
      "C:\\Users\\user\\AppData\\Roaming\\Python\\Python313\\site-packages\\IPython\\core\\pylabtools.py:170: UserWarning: Glyph 54980 (\\N{HANGUL SYLLABLE HU}) missing from font(s) DejaVu Sans.\n",
      "  fig.canvas.print_figure(bytes_io, **kw)\n",
      "C:\\Users\\user\\AppData\\Roaming\\Python\\Python313\\site-packages\\IPython\\core\\pylabtools.py:170: UserWarning: Glyph 44284 (\\N{HANGUL SYLLABLE GWA}) missing from font(s) DejaVu Sans.\n",
      "  fig.canvas.print_figure(bytes_io, **kw)\n",
      "C:\\Users\\user\\AppData\\Roaming\\Python\\Python313\\site-packages\\IPython\\core\\pylabtools.py:170: UserWarning: Glyph 51032 (\\N{HANGUL SYLLABLE YI}) missing from font(s) DejaVu Sans.\n",
      "  fig.canvas.print_figure(bytes_io, **kw)\n",
      "C:\\Users\\user\\AppData\\Roaming\\Python\\Python313\\site-packages\\IPython\\core\\pylabtools.py:170: UserWarning: Glyph 44288 (\\N{HANGUL SYLLABLE GWAN}) missing from font(s) DejaVu Sans.\n",
      "  fig.canvas.print_figure(bytes_io, **kw)\n",
      "C:\\Users\\user\\AppData\\Roaming\\Python\\Python313\\site-packages\\IPython\\core\\pylabtools.py:170: UserWarning: Glyph 44228 (\\N{HANGUL SYLLABLE GYE}) missing from font(s) DejaVu Sans.\n",
      "  fig.canvas.print_figure(bytes_io, **kw)\n"
     ]
    },
    {
     "data": {
      "image/png": "[encoded data removed]",
      "text/plain": [
       "<Figure size 1000x600 with 1 Axes>"
      ]
     },
     "metadata": {},
     "output_type": "display_data"
    }
   ],
   "source": [
    "# 시각화로 확인\n",
    "plt.figure(figsize=(10, 6))                       # figure() : 그래프를 그리기 위한 캔버스 크기 설정\n",
    "plt.scatter(df_capped['CRIM'], df_capped['MEDV']) # scatter() : 산점도(점으로 된 그래프) 그리기 \n",
    "plt.axvline(x=8.90, color='red', linestyle='--')    # axvline() : 이상치 경계선(수직선) 그리기\n",
    "plt.xlabel('CRIM (Capped)')                       # xlabel() : x축 레이블의 이름은 CRIM (Capped)  \n",
    "plt.ylabel('MEDV')                                # ylabel() : y축 레이블의 이름은 MEDV\n",
    "plt.title('이상치 처리 후 CRIM과 MEDV의 관계')      # title() : 그래프 제목\n",
    "plt.show()                                        # show() : 그래프 표시"
   ]
  },
  {
   "cell_type": "code",
   "execution_count": 117,
   "metadata": {},
   "outputs": [
    {
     "name": "stdout",
     "output_type": "stream",
     "text": [
      "각 특성과 MEDV의 상관관계:\n",
      "MEDV       1.000000\n",
      "RM         0.695360\n",
      "ZN         0.365943\n",
      "B          0.333461\n",
      "DIS        0.249929\n",
      "CHAS       0.179882\n",
      "AGE       -0.380223\n",
      "RAD       -0.381626\n",
      "NOX       -0.427321\n",
      "CRIM      -0.438541\n",
      "TAX       -0.468536\n",
      "INDUS     -0.478657\n",
      "PTRATIO   -0.507787\n",
      "LSTAT     -0.721975\n",
      "Name: MEDV, dtype: float64\n"
     ]
    }
   ],
   "source": [
    "# 상관관계 계산\n",
    "correlations = df_capped.corr()['MEDV'].sort_values(ascending=False)\n",
    "# corr() : 상관관계 계산 │ sort_values() : 순서대로 정렬 │ ascending=False : 내림차순 정렬\n",
    "\n",
    "print(\"각 특성과 MEDV의 상관관계:\")\n",
    "print(correlations)"
   ]
  },
  {
   "cell_type": "code",
   "execution_count": 118,
   "metadata": {},
   "outputs": [],
   "source": [
    "# 출력 결과에 대한 설명 ▼\n",
    "\n",
    "# #MEDV        1.000000   # 자기 자신과의 상관관계\n",
    "# RM          0.695360    # 방 개수가 많을수록 가격 상승 (양의 상관관계 중 가장 큰 값)\n",
    "# ZN          0.360445\n",
    "# B           0.333461\n",
    "# DIS         0.249929\n",
    "# CHAS        0.175260\n",
    "# AGE        -0.376955    # 오래된 주택일수록 가격이 하락세\n",
    "# NOX        -0.427321\n",
    "# TAX        -0.468536\n",
    "# INDUS      -0.483725\n",
    "# CRIM       -0.488993    # 범죄율이 높을수록 가격 하락\n",
    "# PTRATIO    -0.507787    \n",
    "# LSTAT      -0.737663    # 하위 계층이 많을수록 가격 크게 하락(음의 상관관계 중 가장 큰 값)"
   ]
  },
  {
   "cell_type": "code",
   "execution_count": 119,
   "metadata": {},
   "outputs": [
    {
     "name": "stdout",
     "output_type": "stream",
     "text": [
      "0: CRIM\n",
      "1: ZN\n",
      "2: INDUS\n",
      "3: CHAS\n",
      "4: NOX\n",
      "5: RM\n",
      "6: AGE\n",
      "7: DIS\n",
      "8: RAD\n",
      "9: TAX\n",
      "10: PTRATIO\n",
      "11: B\n",
      "12: LSTAT\n",
      "\n",
      "\n",
      "상위 5개 특성의 중요도 점수 :\n",
      "    Feature       Score\n",
      "12    LSTAT  548.735758\n",
      "5        RM  471.846740\n",
      "10  PTRATIO  175.105543\n",
      "2     INDUS  149.792187\n",
      "9       TAX  141.761357\n"
     ]
    }
   ],
   "source": [
    "# 특성 선택\n",
    "\n",
    "from sklearn.feature_selection import SelectKBest, f_regression # Select K Best : 상위 k개의 특성 선택\n",
    "# sklearn : 머신러닝 라이브러리                                   # f_regression : 회귀 분석 점수 계산\n",
    "# feature_selection : 특성 선택 라이브러리\n",
    "\n",
    "# 특성(X)과 타겟(y) 분리 \n",
    "X = df_capped.drop('MEDV', axis=1)  # drop() : 특정 열을 제거하는 메서드\n",
    "y = df_capped['MEDV']               # MEDV를 타겟으로, axis=1 : 열 기준으로 제거\n",
    "\n",
    "# 상위 5개 특성 선택\n",
    "selector = SelectKBest(score_func=f_regression, k=5)  # score_func=f_regression : 회귀 분석 점수 계산, 상위 5개\n",
    "X_selected = selector.fit_transform(X, y)            # fit_transform() : 특성 선택 및 변환\n",
    "\n",
    "# 선택된 특성들의 점수 확인\n",
    "feature_scores = pd.DataFrame({\n",
    "    'Feature': X.columns,           # X값의 열 이름을 '특성'으로 설정\n",
    "    'Score': selector.scores_       # selector의 scores_값을 '중요도 점수'로 설정\n",
    "})\n",
    "\n",
    "# 데이터프레임의 열 인덱스 확인\n",
    "for i, column in enumerate(X.columns): # enumerate() : 인덱스와 값을 동시에 반환(i, column)\n",
    "    print((f\"{i}: {column}\"))\n",
    "\n",
    "print(\"\\n\")      # 결과 값과 혼동되지 않게 줄 바꿈\n",
    "\n",
    "print(\"상위 5개 특성의 중요도 점수 :\") \n",
    "print(feature_scores.sort_values('Score', ascending=False).head())\n",
    "# sort_values() : 특성 중요도 점수를 내림차순(ascending=False)으로 정렬\n",
    "# head() : 상위 5개 행을 선택"
   ]
  },
  {
   "cell_type": "code",
   "execution_count": 120,
   "metadata": {},
   "outputs": [
    {
     "name": "stdout",
     "output_type": "stream",
     "text": [
      "각 특성의 범위:\n",
      "LSTAT:\n",
      "  최소값: 1.73\n",
      "  최대값: 37.97\n",
      "RM:\n",
      "  최소값: 3.56\n",
      "  최대값: 8.78\n",
      "PTRATIO:\n",
      "  최소값: 12.60\n",
      "  최대값: 22.00\n",
      "INDUS:\n",
      "  최소값: 0.46\n",
      "  최대값: 27.74\n",
      "TAX:\n",
      "  최소값: 187.00\n",
      "  최대값: 711.00\n"
     ]
    }
   ],
   "source": [
    "# 선택된 특성들의 스케일 확인\n",
    "print(\"각 특성의 범위:\")\n",
    "for feature in ['LSTAT', 'RM', 'PTRATIO', 'INDUS', 'TAX']: # feature : 특성 이름 │ 상위 5개 특성\n",
    "    print(f\"{feature}:\")                                  # 특성 이름 출력\n",
    "    print(f\"  최소값: {df_capped[feature].min():.2f}\")    # 최소값 출력 \n",
    "    print(f\"  최대값: {df_capped[feature].max():.2f}\")    # 최대값 출력\n",
    "                    # df_capped 는 19번 셀에서 만든 데이터프레임\n",
    "\n",
    "# 최소값과 최대값을 확인후, 스케일을 조정할 수 있다."
   ]
  },
  {
   "cell_type": "code",
   "execution_count": 121,
   "metadata": {},
   "outputs": [
    {
     "name": "stdout",
     "output_type": "stream",
     "text": [
      "스케일링 후 데이터:\n",
      "              LSTAT            RM       PTRATIO         INDUS         TAX\n",
      "count  5.060000e+02  5.060000e+02  5.060000e+02  5.060000e+02  506.000000\n",
      "mean  -1.404235e-16 -1.088282e-16 -4.212704e-16 -5.616939e-17    0.000000\n",
      "std    1.000990e+00  1.000990e+00  1.000990e+00  1.000990e+00    1.000990\n",
      "min   -1.568047e+00 -3.880249e+00 -2.707379e+00 -1.587438e+00   -1.313990\n",
      "25%   -7.829837e-01 -5.686303e-01 -4.880391e-01 -8.806806e-01   -0.767576\n",
      "50%   -1.028336e-01 -1.084655e-01  2.748590e-01 -1.769121e-01   -0.464673\n",
      "75%    5.501962e-01  4.827678e-01  8.065758e-01  1.048332e+00    1.530926\n",
      "max    3.604806e+00  3.555044e+00  1.638828e+00  2.488742e+00    1.798194\n"
     ]
    }
   ],
   "source": [
    "# 데이터 표준화 스케일링\n",
    "\n",
    "from sklearn.preprocessing import StandardScaler # StandardScaler : 표준화 스케일링\n",
    "# sklearn(머신러닝 라이브러리)에서 preprocessing(데이터 전처리)모듈의 StandardScaler 클래스를 사용\n",
    "\n",
    "# 선택된 특성들만 사용\n",
    "selected_features = ['LSTAT', 'RM', 'PTRATIO', 'INDUS', 'TAX'] \n",
    "X = df_capped[selected_features] # df_capped 데이터프레임에서 selected_features 열을 선택\n",
    "y = df_capped['MEDV']            # df_capped 데이터프레임에서 MEDV 열을 선택\n",
    "  # df_capped 는 19번 셀에서 만든 데이터프레임\n",
    "\n",
    "# 스케일링\n",
    "scaler = StandardScaler() # StandardScaler 모두 비슷한 범위로 변환(데이터 표준화 도구)\n",
    "X_scaled = scaler.fit_transform(X)  # 1. fit: 각 특성의 평균과 표준편차 계산\n",
    "                                    # 2. transform: (값 - 평균) / 표준편차로 변환\n",
    "\n",
    "# 스케일링 결과를 DataFrame으로 변환 (보기 좋게)\n",
    "X_scaled_df = pd.DataFrame(X_scaled, columns=selected_features) \n",
    "# columns=selected_features : 열 이름을 selected_features로 설정\n",
    "\n",
    "print(\"스케일링 후 데이터:\") \n",
    "print(X_scaled_df.describe()) # describe() : 기술 통계량 확인\n",
    "\n",
    "# 출력 결과에 대한 설명 ▼\n",
    "\n",
    "# 평균(0)을 기준으로 얼마나 떨어져 있는지 확인\n",
    "# pandas라이브러리는 과학적 표기법을 사용하여 출력된다 ex) 1.000000e+00"
   ]
  },
  {
   "cell_type": "code",
   "execution_count": 122,
   "metadata": {},
   "outputs": [
    {
     "name": "stdout",
     "output_type": "stream",
     "text": [
      "학습 데이터 크기: (404, 5)\n",
      "테스트 데이터 크기: (102, 5)\n"
     ]
    }
   ],
   "source": [
    "# 데이터 분할\n",
    "\n",
    "from sklearn.model_selection import train_test_split\n",
    "# sklearn(머신러닝 라이브러리)에서 \n",
    "# model_selection(모델 선택 라이브러리)모듈의 \n",
    "# train_test_split 클래스를 사용\n",
    "\n",
    "# train_test_split() : 데이터를 학습용(80%)과 테스트용(20%)으로 분리하는 함수\n",
    "X_train, X_test, y_train, y_test = train_test_split(\n",
    "    X_scaled,          # X_scaled : 스케일링된 특성 데이터 \n",
    "    y,                 # y : 타겟(집값) 데이터\n",
    "    test_size=0.2,     # test_size : 테스트 데이터 비율 20%    \n",
    "    random_state=42    # random_state : 재현 가능하도록 랜덤 시드 고정, 42는 무작위 숫자\n",
    ")                      # 숫자를 입력하지 않으면 매번 다른 랜덤 시드가 생성된다.\n",
    "\n",
    "# 분할된 데이터 크기 확인\n",
    "print(\"학습 데이터 크기:\", X_train.shape)    # X_train : 학습용 데이터 크기 (= 80%)\n",
    "print(\"테스트 데이터 크기:\", X_test.shape)    # X_test : 테스트용 데이터 크기 (= 20%)\n",
    "\n",
    "# 출력 결과에 대한 설명 ▼\n",
    "\n",
    "# 전체 데이터(506개)를 8:2로 나눴기 때문에:\n",
    "# 학습 데이터: 506 × 0.8 = 404개\n",
    "# 테스트 데이터: 506 × 0.2 = 102개\n",
    "\n",
    "#학습 데이터 (404, 5)\n",
    "# 404개의 행 (데이터 샘플)\n",
    "# 5개의 열 (선택한 특성들: LSTAT, RM, PTRATIO, INDUS, TAX)\n",
    "\n",
    "# 테스트 데이터 (102, 5)\n",
    "# 102개의 행 (데이터 샘플)\n",
    "# 5개의 열 (선택한 특성들: LSTAT, RM, PTRATIO, INDUS, TAX)"
   ]
  },
  {
   "cell_type": "code",
   "execution_count": 123,
   "metadata": {},
   "outputs": [
    {
     "name": "stdout",
     "output_type": "stream",
     "text": [
      "세 가지 모델의 학습이 완료되었습니다!\n"
     ]
    }
   ],
   "source": [
    "# 여러 회귀 모델 만들기\n",
    "\n",
    "# 필요한 모델들 임포트\n",
    "from sklearn.linear_model import LinearRegression          # 선형 회귀\n",
    "from sklearn.tree import DecisionTreeRegressor            # 의사결정나무\n",
    "from sklearn.ensemble import RandomForestRegressor        # 랜덤 포레스트\n",
    "\n",
    "# 1. 선형 회귀 모델 LinearRegression\n",
    "lr_model = LinearRegression()\n",
    "lr_model.fit(X_train, y_train)\n",
    "\n",
    "# 2. 의사결정나무 모델 DecisionTreeRegressor           ▼ 안 하면 매번 다른 랜덤 시드가 생성된다.\n",
    "dt_model = DecisionTreeRegressor(random_state=42) # 임의의 숫자 42로 고정 \n",
    "dt_model.fit(X_train, y_train)                    # fit() : 모델 학습\n",
    "\n",
    "# 3. 랜덤 포레스트 모델 RandomForestRegressor\n",
    "rf_model = RandomForestRegressor(random_state=42) # 임의의 숫자 42로 고정\n",
    "rf_model.fit(X_train, y_train)\n",
    "\n",
    "print(\"세 가지 모델의 학습이 완료되었습니다!\")"
   ]
  },
  {
   "cell_type": "code",
   "execution_count": 124,
   "metadata": {},
   "outputs": [
    {
     "name": "stdout",
     "output_type": "stream",
     "text": [
      "\n",
      "선형 회귀 성능:\n",
      "MAE: 3.29 (예측값과 실제값의 차이 평균)\n",
      "MSE: 28.03 (예측값과 실제값의 차이 제곱의 평균)\n",
      "R² Score: 0.62 (1에 가까울수록 좋음)\n",
      "\n",
      "의사결정나무 성능:\n",
      "MAE: 3.64 (예측값과 실제값의 차이 평균)\n",
      "MSE: 30.52 (예측값과 실제값의 차이 제곱의 평균)\n",
      "R² Score: 0.58 (1에 가까울수록 좋음)\n",
      "\n",
      "랜덤 포레스트 성능:\n",
      "MAE: 2.61 (예측값과 실제값의 차이 평균)\n",
      "MSE: 14.29 (예측값과 실제값의 차이 제곱의 평균)\n",
      "R² Score: 0.81 (1에 가까울수록 좋음)\n"
     ]
    }
   ],
   "source": [
    "# 각 모델의 성능 평가\n",
    "\n",
    "from sklearn.metrics import mean_absolute_error, mean_squared_error, r2_score\n",
    "# sklearn(머신러닝 라이브러리)에서 metrics(평가 라이브러리)모듈의\n",
    "# mean_absolute_error, mean_squared_error, r2_score 클래스를 사용\n",
    "\n",
    "def evaluate_model(model, X_test, y_test, model_name): # evaluate_model() : 모델 성능 평가\n",
    "    # 예측\n",
    "    predictions = model.predict(X_test) # predict() : 테스트 데이터를 예측 하는 함수\n",
    "    \n",
    "    # 평가 지표 계산          y_test(실제값), predictions(예측값)\n",
    "    mae = mean_absolute_error(y_test, predictions) # mean_absolute_error() : 평균 절대 오차 계산    \n",
    "    mse = mean_squared_error(y_test, predictions) # mean_squared_error() : 평균 제곱 오차 계산\n",
    "    r2 = r2_score(y_test, predictions) # r2_score(결정계수) : R² 점수 계산\n",
    "    \n",
    "    print(f\"\\n{model_name} 성능:\")\n",
    "    print(f\"MAE: {mae:.2f} (예측값과 실제값의 차이 평균)\")\n",
    "    print(f\"MSE: {mse:.2f} (예측값과 실제값의 차이 제곱의 평균)\")\n",
    "    print(f\"R² Score: {r2:.2f} (1에 가까울수록 좋음)\")\n",
    "\n",
    "# 각 모델 평가\n",
    "evaluate_model(lr_model, X_test, y_test, \"선형 회귀\")\n",
    "evaluate_model(dt_model, X_test, y_test, \"의사결정나무\")\n",
    "evaluate_model(rf_model, X_test, y_test, \"랜덤 포레스트\")"
   ]
  },
  {
   "cell_type": "code",
   "execution_count": 125,
   "metadata": {},
   "outputs": [],
   "source": [
    "# 출력 결과에 대한 평가 지표 설명 ▼\n",
    "\n",
    "# MAE와 MSE는:\n",
    "# 값이 작을수록 좋음\n",
    "# 실제 집값과 예측값의 차이를 보여줌\n",
    "\n",
    "# R² 점수의 의미:   \n",
    "# 1.0 = 완벽한 예측 (100% 정확)\n",
    "# 0.9 = 매우 좋음 (90% 설명 가능)\n",
    "# 0.8 = 좋음 (80% 설명 가능)\n",
    "# 0.5 = 보통 (50% 설명 가능)\n",
    "# 0.0 = 나쁨 (0% 설명 가능)"
   ]
  },
  {
   "cell_type": "code",
   "execution_count": 126,
   "metadata": {},
   "outputs": [
    {
     "name": "stderr",
     "output_type": "stream",
     "text": [
      "C:\\Users\\user\\AppData\\Roaming\\Python\\Python313\\site-packages\\IPython\\core\\pylabtools.py:170: UserWarning: Glyph 44033 (\\N{HANGUL SYLLABLE GAG}) missing from font(s) DejaVu Sans.\n",
      "  fig.canvas.print_figure(bytes_io, **kw)\n",
      "C:\\Users\\user\\AppData\\Roaming\\Python\\Python313\\site-packages\\IPython\\core\\pylabtools.py:170: UserWarning: Glyph 47784 (\\N{HANGUL SYLLABLE MO}) missing from font(s) DejaVu Sans.\n",
      "  fig.canvas.print_figure(bytes_io, **kw)\n",
      "C:\\Users\\user\\AppData\\Roaming\\Python\\Python313\\site-packages\\IPython\\core\\pylabtools.py:170: UserWarning: Glyph 45944 (\\N{HANGUL SYLLABLE DEL}) missing from font(s) DejaVu Sans.\n",
      "  fig.canvas.print_figure(bytes_io, **kw)\n",
      "C:\\Users\\user\\AppData\\Roaming\\Python\\Python313\\site-packages\\IPython\\core\\pylabtools.py:170: UserWarning: Glyph 51032 (\\N{HANGUL SYLLABLE YI}) missing from font(s) DejaVu Sans.\n",
      "  fig.canvas.print_figure(bytes_io, **kw)\n",
      "C:\\Users\\user\\AppData\\Roaming\\Python\\Python313\\site-packages\\IPython\\core\\pylabtools.py:170: UserWarning: Glyph 51216 (\\N{HANGUL SYLLABLE JEOM}) missing from font(s) DejaVu Sans.\n",
      "  fig.canvas.print_figure(bytes_io, **kw)\n",
      "C:\\Users\\user\\AppData\\Roaming\\Python\\Python313\\site-packages\\IPython\\core\\pylabtools.py:170: UserWarning: Glyph 49688 (\\N{HANGUL SYLLABLE SU}) missing from font(s) DejaVu Sans.\n",
      "  fig.canvas.print_figure(bytes_io, **kw)\n",
      "C:\\Users\\user\\AppData\\Roaming\\Python\\Python313\\site-packages\\IPython\\core\\pylabtools.py:170: UserWarning: Glyph 48708 (\\N{HANGUL SYLLABLE BI}) missing from font(s) DejaVu Sans.\n",
      "  fig.canvas.print_figure(bytes_io, **kw)\n",
      "C:\\Users\\user\\AppData\\Roaming\\Python\\Python313\\site-packages\\IPython\\core\\pylabtools.py:170: UserWarning: Glyph 44368 (\\N{HANGUL SYLLABLE GYO}) missing from font(s) DejaVu Sans.\n",
      "  fig.canvas.print_figure(bytes_io, **kw)\n",
      "C:\\Users\\user\\AppData\\Roaming\\Python\\Python313\\site-packages\\IPython\\core\\pylabtools.py:170: UserWarning: Glyph 49440 (\\N{HANGUL SYLLABLE SEON}) missing from font(s) DejaVu Sans.\n",
      "  fig.canvas.print_figure(bytes_io, **kw)\n",
      "C:\\Users\\user\\AppData\\Roaming\\Python\\Python313\\site-packages\\IPython\\core\\pylabtools.py:170: UserWarning: Glyph 54805 (\\N{HANGUL SYLLABLE HYEONG}) missing from font(s) DejaVu Sans.\n",
      "  fig.canvas.print_figure(bytes_io, **kw)\n",
      "C:\\Users\\user\\AppData\\Roaming\\Python\\Python313\\site-packages\\IPython\\core\\pylabtools.py:170: UserWarning: Glyph 54924 (\\N{HANGUL SYLLABLE HOE}) missing from font(s) DejaVu Sans.\n",
      "  fig.canvas.print_figure(bytes_io, **kw)\n",
      "C:\\Users\\user\\AppData\\Roaming\\Python\\Python313\\site-packages\\IPython\\core\\pylabtools.py:170: UserWarning: Glyph 44480 (\\N{HANGUL SYLLABLE GWI}) missing from font(s) DejaVu Sans.\n",
      "  fig.canvas.print_figure(bytes_io, **kw)\n",
      "C:\\Users\\user\\AppData\\Roaming\\Python\\Python313\\site-packages\\IPython\\core\\pylabtools.py:170: UserWarning: Glyph 49324 (\\N{HANGUL SYLLABLE SA}) missing from font(s) DejaVu Sans.\n",
      "  fig.canvas.print_figure(bytes_io, **kw)\n",
      "C:\\Users\\user\\AppData\\Roaming\\Python\\Python313\\site-packages\\IPython\\core\\pylabtools.py:170: UserWarning: Glyph 44208 (\\N{HANGUL SYLLABLE GYEOL}) missing from font(s) DejaVu Sans.\n",
      "  fig.canvas.print_figure(bytes_io, **kw)\n",
      "C:\\Users\\user\\AppData\\Roaming\\Python\\Python313\\site-packages\\IPython\\core\\pylabtools.py:170: UserWarning: Glyph 51221 (\\N{HANGUL SYLLABLE JEONG}) missing from font(s) DejaVu Sans.\n",
      "  fig.canvas.print_figure(bytes_io, **kw)\n",
      "C:\\Users\\user\\AppData\\Roaming\\Python\\Python313\\site-packages\\IPython\\core\\pylabtools.py:170: UserWarning: Glyph 45208 (\\N{HANGUL SYLLABLE NA}) missing from font(s) DejaVu Sans.\n",
      "  fig.canvas.print_figure(bytes_io, **kw)\n",
      "C:\\Users\\user\\AppData\\Roaming\\Python\\Python313\\site-packages\\IPython\\core\\pylabtools.py:170: UserWarning: Glyph 47924 (\\N{HANGUL SYLLABLE MU}) missing from font(s) DejaVu Sans.\n",
      "  fig.canvas.print_figure(bytes_io, **kw)\n",
      "C:\\Users\\user\\AppData\\Roaming\\Python\\Python313\\site-packages\\IPython\\core\\pylabtools.py:170: UserWarning: Glyph 47004 (\\N{HANGUL SYLLABLE RAEN}) missing from font(s) DejaVu Sans.\n",
      "  fig.canvas.print_figure(bytes_io, **kw)\n",
      "C:\\Users\\user\\AppData\\Roaming\\Python\\Python313\\site-packages\\IPython\\core\\pylabtools.py:170: UserWarning: Glyph 45924 (\\N{HANGUL SYLLABLE DEOM}) missing from font(s) DejaVu Sans.\n",
      "  fig.canvas.print_figure(bytes_io, **kw)\n",
      "C:\\Users\\user\\AppData\\Roaming\\Python\\Python313\\site-packages\\IPython\\core\\pylabtools.py:170: UserWarning: Glyph 54252 (\\N{HANGUL SYLLABLE PO}) missing from font(s) DejaVu Sans.\n",
      "  fig.canvas.print_figure(bytes_io, **kw)\n",
      "C:\\Users\\user\\AppData\\Roaming\\Python\\Python313\\site-packages\\IPython\\core\\pylabtools.py:170: UserWarning: Glyph 47112 (\\N{HANGUL SYLLABLE RE}) missing from font(s) DejaVu Sans.\n",
      "  fig.canvas.print_figure(bytes_io, **kw)\n",
      "C:\\Users\\user\\AppData\\Roaming\\Python\\Python313\\site-packages\\IPython\\core\\pylabtools.py:170: UserWarning: Glyph 49828 (\\N{HANGUL SYLLABLE SEU}) missing from font(s) DejaVu Sans.\n",
      "  fig.canvas.print_figure(bytes_io, **kw)\n",
      "C:\\Users\\user\\AppData\\Roaming\\Python\\Python313\\site-packages\\IPython\\core\\pylabtools.py:170: UserWarning: Glyph 53944 (\\N{HANGUL SYLLABLE TEU}) missing from font(s) DejaVu Sans.\n",
      "  fig.canvas.print_figure(bytes_io, **kw)\n"
     ]
    },
    {
     "data": {
      "image/png": "[encoded data removed]",
      "text/plain": [
       "<Figure size 1000x600 with 1 Axes>"
      ]
     },
     "metadata": {},
     "output_type": "display_data"
    }
   ],
   "source": [
    "# 결과 분석\n",
    "\n",
    "import matplotlib.pyplot as plt \n",
    "# matplotlib(시각화 도구)의 pyplot(그래프를 그리는 도구)를 불러온다.\n",
    "\n",
    "# 모델 이름과 성능 저장\n",
    "models = ['선형 회귀', '의사결정나무', '랜덤 포레스트']\n",
    "r2_scores = [               # predict() : 테스트 데이터를 예측 하는 함수\n",
    "    r2_score(y_test, lr_model.predict(X_test)), #lr : LinearRegression 선형 회귀\n",
    "    r2_score(y_test, dt_model.predict(X_test)), #dt : DecisionTreeRegressor 의사결정나무\n",
    "    r2_score(y_test, rf_model.predict(X_test))  #rf : RandomForestRegressor 랜덤 포레스트\n",
    "]\n",
    "\n",
    "# 막대 그래프 그리기\n",
    "plt.figure(figsize=(10, 6)) # figure() : 캔버스 크기 설정 ( 10 x 6 )\n",
    "plt.bar(models, r2_scores) # bar() : 막대 그래프 그리기(모델 이름, R² 점수)\n",
    "plt.title('각 모델의 R² 점수 비교') # title() : 그래프 제목\n",
    "plt.ylabel('R² Score') # ylabel() : y축 레이블의 이름은 R² Score\n",
    "plt.ylim(0, 1)  # ylim() : y축 범위 설정 ( 0 ~ 1 )\n",
    "\n",
    "# 각 막대 위에 값 표시\n",
    "for i, v in enumerate(r2_scores): # enumerate() : 인덱스와 값을 동시에 반환(i, v)\n",
    "    plt.text(i, v + 0.01, f'{v:.3f}', ha='center') # ha='center' : 가운데 정렬\n",
    "            # 그래프랑 수치가 겹치지 않게 v + 0.01 추가 (가독성)\n",
    "            # f'{v:.3f}' : 소수점 셋째자리까지 표시(f = float)\n",
    "plt.show() # show() : 그래프 표시\n",
    "\n"
   ]
  },
  {
   "cell_type": "code",
   "execution_count": 127,
   "metadata": {},
   "outputs": [
    {
     "name": "stdout",
     "output_type": "stream",
     "text": [
      "특성 중요도:\n",
      "   feature  importance\n",
      "1       RM    0.586109\n",
      "0    LSTAT    0.299527\n",
      "4      TAX    0.060520\n",
      "2  PTRATIO    0.031204\n",
      "3    INDUS    0.022640\n"
     ]
    }
   ],
   "source": [
    "# 특성 중요도 확인 (랜덤 포레스트의 경우)\n",
    "feature_importance = pd.DataFrame({  # 'feature'와 'importance'의 데이터프레임 생성\n",
    "    'feature': selected_features, # selected_features : 선택한 특성들\n",
    "    'importance': rf_model.feature_importances_ # feature_importances_ : 특성 중요도\n",
    "    }).sort_values('importance', ascending=False) # sort_values() : 중요도 순으로 정렬\n",
    "                               # ascending=False : 내림차순 정렬\n",
    "print(\"특성 중요도:\")\n",
    "print(feature_importance)"
   ]
  },
  {
   "cell_type": "code",
   "execution_count": 128,
   "metadata": {},
   "outputs": [
    {
     "name": "stdout",
     "output_type": "stream",
     "text": [
      "예측 vs 실제:\n",
      "\n",
      "샘플 1:\n",
      "예측 가격: $24.36k\n",
      "실제 가격: $23.60k\n",
      "오차: $0.76k\n",
      "\n",
      "샘플 2:\n",
      "예측 가격: $30.93k\n",
      "실제 가격: $32.40k\n",
      "오차: $1.47k\n",
      "\n",
      "샘플 3:\n",
      "예측 가격: $17.23k\n",
      "실제 가격: $13.60k\n",
      "오차: $3.63k\n",
      "\n"
     ]
    }
   ],
   "source": [
    "   # 몇 가지 샘플 데이터로 집값 예측해보기\n",
    "sample_indices = [0, 1, 2]  # 예시로 3개 데이터 선택\n",
    "predictions = rf_model.predict(X_test[sample_indices]) # predict() : 테스트 데이터를 예측 하는 함수\n",
    "# 리스트로 선택된 3개 데이터를 예측\n",
    "actual = y_test.iloc[sample_indices] # iloc[] : 특정 행과 열을 선택하는 메서드\n",
    "   \n",
    "print(\"예측 vs 실제:\\n\")         # enumerate() : 인덱스와 값을 동시에 반환(i, (pred, act))\n",
    "                                # zip() : 두 개의 리스트를 합쳐서 튜플로 반환\n",
    "for i, (pred, act) in enumerate(zip(predictions, actual)):\n",
    "    print(f\"샘플 {i+1}:\") # i+1 : 인덱스 번호 출력\n",
    "    print(f\"예측 가격: ${pred:.2f}k\") # f'{pred:.2f}k' : 소수점 둘째자리까지 표시\n",
    "    print(f\"실제 가격: ${act:.2f}k\") # f'{act:.2f}k' : 소수점 둘째자리까지 표시\n",
    "    print(f\"오차: ${abs(pred-act):.2f}k\\n\") # f'{abs(pred-act):.2f}k' : 소수점 둘째자리까지 표시\n"
   ]
  },
  {
   "cell_type": "code",
   "execution_count": 129,
   "metadata": {},
   "outputs": [],
   "source": [
    "# end"
   ]
  }
 ],
 "metadata": {
  "kernelspec": {
   "display_name": "firstmyvenv (venv)",
   "language": "python",
   "name": "firstmyvenv"
  },
  "language_info": {
   "codemirror_mode": {
    "name": "ipython",
    "version": 3
   },
   "file_extension": ".py",
   "mimetype": "text/x-python",
   "name": "python",
   "nbconvert_exporter": "python",
   "pygments_lexer": "ipython3",
   "version": "3.13.0"
  }
 },
 "nbformat": 4,
 "nbformat_minor": 2
}
