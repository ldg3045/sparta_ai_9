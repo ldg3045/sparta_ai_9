{
 "cells": [
  {
   "cell_type": "code",
   "execution_count": 1,
   "id": "81446593-cef9-4a0f-a298-a563532622ff",
   "metadata": {},
   "outputs": [],
   "source": [
    "class Person:                           # 사람 정보를 관리하는 클래스\n",
    "    def __init__(self):                 # 객체 생성 시 실행되는 초기화 메서드\n",
    "        self.name = input(\"이름 : \")    # 이름 입력\n",
    "        self.gender = input(\"성별 : \")  # 성별 입력\n",
    "        self.age = input(\"나이 : \")     # 나이 입력\n",
    "\n",
    "        # 'self'는 생성된 객체 자체를 가리킴\n",
    "    \n",
    "    def display(self):                  # 입력받은 정보를 출력하는 메서드\n",
    "        print(f\"이름 : {self.name} 성별 : {self.gender}\\n나이 : {self.age}\")"
   ]
  },
  {
   "cell_type": "code",
   "execution_count": null,
   "id": "2014b17f-760d-4e8e-b62c-500029ede151",
   "metadata": {},
   "outputs": [],
   "source": [
    "a = Person()        # Person 클래스를 사용해 객체 생성"
   ]
  },
  {
   "cell_type": "code",
   "execution_count": null,
   "id": "d016cafe-b53a-487e-8995-e224f3855814",
   "metadata": {},
   "outputs": [],
   "source": []
  }
 ],
 "metadata": {
  "kernelspec": {
   "display_name": "Python 3 (ipykernel)",
   "language": "python",
   "name": "python3"
  },
  "language_info": {
   "codemirror_mode": {
    "name": "ipython",
    "version": 3
   },
   "file_extension": ".py",
   "mimetype": "text/x-python",
   "name": "python",
   "nbconvert_exporter": "python",
   "pygments_lexer": "ipython3",
   "version": "3.12.7"
  }
 },
 "nbformat": 4,
 "nbformat_minor": 5
}
