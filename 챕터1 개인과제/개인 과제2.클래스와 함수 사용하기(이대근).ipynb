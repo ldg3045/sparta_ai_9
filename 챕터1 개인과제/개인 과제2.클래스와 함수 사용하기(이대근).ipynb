{
 "cells": [
  {
   "cell_type": "code",
   "execution_count": 43,
   "id": "aaf5bfa0-f4ea-459c-8f18-da44a2031339",
   "metadata": {},
   "outputs": [],
   "source": [
    "class Person:                               # 사람 정보를 관리하는 클래스\n",
    "    def __init__(self):                     # 객체 생성 시 실행되는 초기화 메서드\n",
    "        self.age = int(input(\"나이 : \"))    # 나이 입력 (정수)\n",
    "        self.name = input(\"이름 : \")        # 이름 입력\n",
    "        self.gender = input(\"성별 : \")      # 성별 입력\n",
    "    # 'self'는 매개변수로, 생성된 객체 자체를 가리킴       \n",
    "\n",
    "\n",
    "    \n",
    "    def display(self):                 # 입력받은 정보를 출력하는 메서드\n",
    "        print(f\"이름 : {self.name}, 성별 : {self.gender}\\n나이 : {self.age}\")"
   ]
  },
  {
   "cell_type": "code",
   "execution_count": 37,
   "id": "8e4497e0-c5cb-448c-91fd-19839432c959",
   "metadata": {},
   "outputs": [
    {
     "name": "stdin",
     "output_type": "stream",
     "text": [
      "나이 :  34\n",
      "이름 :  이대근\n",
      "성별 :  남\n"
     ]
    }
   ],
   "source": [
    "a = Person() # Person 클래스를 사용해 객체 생성"
   ]
  },
  {
   "cell_type": "code",
   "execution_count": 39,
   "id": "dab1add6-c758-49e6-977e-63abd48175ac",
   "metadata": {},
   "outputs": [
    {
     "name": "stdout",
     "output_type": "stream",
     "text": [
      "이름 : 이대근, 성별 : 남\n",
      "나이 : 34\n"
     ]
    }
   ],
   "source": [
    "a.display() # display함수를 통해 객체의 정보를 출력"
   ]
  }
 ],
 "metadata": {
  "kernelspec": {
   "display_name": "Python 3 (ipykernel)",
   "language": "python",
   "name": "python3"
  },
  "language_info": {
   "codemirror_mode": {
    "name": "ipython",
    "version": 3
   },
   "file_extension": ".py",
   "mimetype": "text/x-python",
   "name": "python",
   "nbconvert_exporter": "python",
   "pygments_lexer": "ipython3",
   "version": "3.12.7"
  }
 },
 "nbformat": 4,
 "nbformat_minor": 5
}
