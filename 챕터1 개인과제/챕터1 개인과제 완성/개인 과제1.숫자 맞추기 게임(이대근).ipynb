{
 "cells": [
  {
   "cell_type": "code",
   "execution_count": null,
   "id": "4c03bf9b-465f-4604-b9e4-02a08a1395ef",
   "metadata": {},
   "outputs": [
    {
     "name": "stdout",
     "output_type": "stream",
     "text": [
      "숫자 맞추기 게임~!\n"
     ]
    }
   ],
   "source": [
    "import random  # 랜덤한 숫자를 고르는 모듈을 가져온다.\n",
    "\n",
    "print(\"숫자 맞추기 게임~!\")  # 게임을 시작했다는 문구를 띄운다.\n",
    "\n",
    "choice = random.randint(1, 10)  # 1~10 사이의 랜덤한 정수를 반환한다.\n",
    "\n",
    "while True:  # 숫자를 맞출 때까지 반복한다.\n",
    "    try:\n",
    "        # 사용자로부터 숫자를 입력받아 정수로 변환한다.\n",
    "        user_choice = int(input('1~10까지 숫자를 입력하세요: '))\n",
    "        \n",
    "        if 1 <= user_choice <= 10:  # 입력 값이 1~10 사이일 때만 처리한다.\n",
    "            if choice < user_choice:  # 사용자가 선택한 숫자가 정답보다 클 때\n",
    "                print('정답보다 작아요!')  # 힌트를 출력한다.\n",
    "            elif choice > user_choice:  # 사용자가 선택한 숫자가 정답보다 작을 때\n",
    "                print('정답보다 커요!')  # 힌트를 출력한다.\n",
    "            else:  # 사용자가 정답을 맞췄을 때\n",
    "                print('정답입니다. 게임을 종료합니다!')\n",
    "                break  # 반복문을 종료한다.\n",
    "        else:\n",
    "            print('1~10 사이에 숫자를 선택하세요.')  # 유효하지 않은 입력에 대한 힌트를 출력한다.\n",
    "            \n",
    "    except ValueError:  # 입력이 정수가 아닐 경우 예외 처리\n",
    "        print(\"숫자만 입력해주세요!\")\n"
   ]
  },
  {
   "cell_type": "code",
   "execution_count": null,
   "id": "23fbbedf-4296-4164-b43c-4532df344520",
   "metadata": {},
   "outputs": [],
   "source": []
  }
 ],
 "metadata": {
  "kernelspec": {
   "display_name": "Python 3 (ipykernel)",
   "language": "python",
   "name": "python3"
  },
  "language_info": {
   "codemirror_mode": {
    "name": "ipython",
    "version": 3
   },
   "file_extension": ".py",
   "mimetype": "text/x-python",
   "name": "python",
   "nbconvert_exporter": "python",
   "pygments_lexer": "ipython3",
   "version": "3.12.7"
  }
 },
 "nbformat": 4,
 "nbformat_minor": 5
}
