{
 "cells": [
  {
   "cell_type": "code",
   "execution_count": 23,
   "id": "164ea398-e7e8-4273-8534-d94b3623e69f",
   "metadata": {},
   "outputs": [],
   "source": [
    "class Person:\n",
    "    def __init__(self):\n",
    "        self.name = input(\"이름 : \")\n",
    "        self.gender = input(\"성별 : \")\n",
    "        self.age = input(\"나이 : \")\n",
    "\n",
    "    def display(self):\n",
    "        print(f\"이름 : {self.name} 성별 : {self.gender}\\n나이 : {self.age}\")"
   ]
  },
  {
   "cell_type": "code",
   "execution_count": 31,
   "id": "1c8dbd49-65fa-468e-a2ff-79470ee6f17a",
   "metadata": {},
   "outputs": [
    {
     "name": "stdin",
     "output_type": "stream",
     "text": [
      "이름 :  이대근\n",
      "성별 :  남자\n",
      "나이 :  34\n"
     ]
    }
   ],
   "source": [
    "a = Person()"
   ]
  },
  {
   "cell_type": "code",
   "execution_count": null,
   "id": "36942541-1126-494e-9b24-ec6a02783f7a",
   "metadata": {},
   "outputs": [],
   "source": []
  }
 ],
 "metadata": {
  "kernelspec": {
   "display_name": "Python 3 (ipykernel)",
   "language": "python",
   "name": "python3"
  },
  "language_info": {
   "codemirror_mode": {
    "name": "ipython",
    "version": 3
   },
   "file_extension": ".py",
   "mimetype": "text/x-python",
   "name": "python",
   "nbconvert_exporter": "python",
   "pygments_lexer": "ipython3",
   "version": "3.12.7"
  }
 },
 "nbformat": 4,
 "nbformat_minor": 5
}
