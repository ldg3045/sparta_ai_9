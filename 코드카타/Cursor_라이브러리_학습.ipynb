{
 "cells": [
  {
   "cell_type": "code",
   "execution_count": 1,
   "metadata": {},
   "outputs": [],
   "source": [
    "import numpy as np\n",
    "import pandas as pd"
   ]
  },
  {
   "cell_type": "code",
   "execution_count": 2,
   "metadata": {},
   "outputs": [
    {
     "name": "stdout",
     "output_type": "stream",
     "text": [
      "1차원 배열: [1 2 3 4 5]\n",
      "\n",
      "배열의 차원: 1\n",
      "배열의 형태: (5,)\n",
      "배열의 크기: 5\n"
     ]
    }
   ],
   "source": [
    "# 1차원 배열 만들기\n",
    "arr1 = np.array([1, 2, 3, 4, 5])\n",
    "print(\"1차원 배열:\", arr1)\n",
    "\n",
    "# 배열의 기본 속성 확인\n",
    "print(\"\\n배열의 차원:\", arr1.ndim)  # 차원\n",
    "print(\"배열의 형태:\", arr1.shape)    # 형태(shape)\n",
    "print(\"배열의 크기:\", arr1.size)     # 원소의 개수"
   ]
  },
  {
   "cell_type": "code",
   "execution_count": 3,
   "metadata": {},
   "outputs": [
    {
     "name": "stdout",
     "output_type": "stream",
     "text": [
      "파이썬 리스트의 타입: <class 'list'>\n",
      "NumPy 배열의 타입: <class 'numpy.ndarray'>\n",
      "\n",
      "배열의 데이터 타입: int64\n"
     ]
    }
   ],
   "source": [
    "import numpy as np\n",
    "\n",
    "# 1. 배열 생성\n",
    "numbers = [1, 2, 3, 4, 5]\n",
    "arr = np.array(numbers)\n",
    "\n",
    "# 2. 배열의 타입 확인\n",
    "print(\"파이썬 리스트의 타입:\", type(numbers))  # <class 'list'>\n",
    "print(\"NumPy 배열의 타입:\", type(arr))         # <class 'numpy.ndarray'>\n",
    "\n",
    "# 3. 배열 내 데이터 타입 확인\n",
    "print(\"\\n배열의 데이터 타입:\", arr.dtype)"
   ]
  },
  {
   "cell_type": "code",
   "execution_count": 4,
   "metadata": {},
   "outputs": [
    {
     "name": "stdout",
     "output_type": "stream",
     "text": [
      "실수형 배열: float64\n",
      "타입 지정 배열: float64\n",
      "문자열 배열: <U1\n"
     ]
    }
   ],
   "source": [
    "# 다양한 데이터 타입의 배열 만들기\n",
    "arr1 = np.array([1.0, 2.0, 3.0])  # 실수형\n",
    "arr2 = np.array([1, 2, 3], dtype=float)  # 타입 지정\n",
    "arr3 = np.array(['a', 'b', 'c'])  # 문자열\n",
    "\n",
    "print(\"실수형 배열:\", arr1.dtype)\n",
    "print(\"타입 지정 배열:\", arr2.dtype)\n",
    "print(\"문자열 배열:\", arr3.dtype)"
   ]
  },
  {
   "cell_type": "code",
   "execution_count": null,
   "metadata": {},
   "outputs": [],
   "source": []
  }
 ],
 "metadata": {
  "kernelspec": {
   "display_name": "Python 3",
   "language": "python",
   "name": "python3"
  },
  "language_info": {
   "codemirror_mode": {
    "name": "ipython",
    "version": 3
   },
   "file_extension": ".py",
   "mimetype": "text/x-python",
   "name": "python",
   "nbconvert_exporter": "python",
   "pygments_lexer": "ipython3",
   "version": "3.13.0"
  }
 },
 "nbformat": 4,
 "nbformat_minor": 2
}
